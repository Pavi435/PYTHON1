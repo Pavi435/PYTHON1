{
 "cells": [
  {
   "cell_type": "code",
   "execution_count": 1,
   "metadata": {},
   "outputs": [
    {
     "name": "stdout",
     "output_type": "stream",
     "text": [
      "Even\n"
     ]
    }
   ],
   "source": [
    "n=int(input(\"Enter a number:\"))\n",
    "if(n%2==0):\n",
    "    print(\"Even\")\n",
    "else:\n",
    "    print(\"Odd\")"
   ]
  },
  {
   "cell_type": "code",
   "execution_count": 3,
   "metadata": {},
   "outputs": [
    {
     "name": "stdout",
     "output_type": "stream",
     "text": [
      "The given number is positive\n"
     ]
    }
   ],
   "source": [
    "n=int(input(\"Enter the value of a:\"))\n",
    "if(n>0):\n",
    "    print(\"The given number is positive\")\n",
    "else:\n",
    "    print(\"The given number is negative\")"
   ]
  },
  {
   "cell_type": "code",
   "execution_count": 4,
   "metadata": {},
   "outputs": [
    {
     "name": "stdout",
     "output_type": "stream",
     "text": [
      "Your salary is:14000\n"
     ]
    }
   ],
   "source": [
    "n=input(\"Enter your name:\")\n",
    "a=int(input(\"Enter yout age:\"))\n",
    "g =input(\"Enter the gender:\")\n",
    "w=int(input(\"Enter no of working days:\"))\n",
    "if a>=18 and a<30:\n",
    "    if g in['m']:\n",
    "        print(\"Your salary is:{}\".format(700*w))\n",
    "elif a>=18 and a<30:\n",
    "    if g in['f']:\n",
    "        print(\"Your salary is:{}\".format(750*w))\n",
    "elif a>=30 and a<=40:\n",
    "    if g in['m','f']:\n",
    "        print(\"Your salary is:{}\".format(800*w))"
   ]
  }
 ],
 "metadata": {
  "kernelspec": {
   "display_name": "Python 3 (ipykernel)",
   "language": "python",
   "name": "python3"
  },
  "language_info": {
   "codemirror_mode": {
    "name": "ipython",
    "version": 3
   },
   "file_extension": ".py",
   "mimetype": "text/x-python",
   "name": "python",
   "nbconvert_exporter": "python",
   "pygments_lexer": "ipython3",
   "version": "3.10.4"
  },
  "orig_nbformat": 4
 },
 "nbformat": 4,
 "nbformat_minor": 2
}
